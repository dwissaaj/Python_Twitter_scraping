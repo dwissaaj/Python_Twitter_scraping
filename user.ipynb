{
 "cells": [
  {
   "cell_type": "code",
   "execution_count": 41,
   "metadata": {
    "collapsed": true
   },
   "outputs": [],
   "source": [
    "import tweepy\n",
    "import pandas as pd\n",
    "\n",
    "auth =  tweepy.OAuthHandler(\"kKnqrEWzbC7ygcscbNYHTQIO6\",\"OEN3Q49NNKAg5HcQbwCJ6PwJUjxgbQwmhqdGWTtYzn8uQq2PTQ\")\n",
    "auth.set_access_token(\"2209890762-KUmWTpz0hCZX1HHnYx8935H0s4JZzWAn8CcuDdT\",\"fUKZMFbgWVafFtZiyRXCtCYIHJRucvAJHsAfa8VsBLrSW\")\n",
    "api = tweepy.API(auth)\n"
   ]
  },
  {
   "cell_type": "code",
   "execution_count": 42,
   "outputs": [],
   "source": [
    "author = []\n",
    "contributors = []\n",
    "coordinates = []\n",
    "date = []\n",
    "entities = []\n",
    "favorite = []\n",
    "likes = []\n",
    "favorited = []\n",
    "tweets = []\n",
    "geo = []\n",
    "id = []\n",
    "in_reply_to_screen_name = []\n",
    "in_reply_to_status_id = []\n",
    "in_reply_to_user_id = []\n",
    "is_quote_status = []\n",
    "lang = []\n",
    "parse = []\n",
    "place = []\n",
    "retweet = []\n",
    "retweet_count = []\n",
    "retweeted = []\n",
    "retweeted_status = []\n",
    "retweets = []\n",
    "source = []\n",
    "source_url = []\n",
    "user = []\n"
   ],
   "metadata": {
    "collapsed": false,
    "pycharm": {
     "name": "#%%\n"
    }
   }
  },
  {
   "cell_type": "code",
   "execution_count": 43,
   "outputs": [],
   "source": [
    "for i in api.user_timeline(id=\"JNE_ID\",count=500,page=2):\n",
    "    author.append(i.author)\n",
    "    contributors.append(i.contributors)\n",
    "    coordinates.append(i.coordinates)\n",
    "    date.append(i.created_at)\n",
    "    entities.append(i.entities)\n",
    "    favorite.append(i.favorite)\n",
    "    likes.append(i.favorite_count)\n",
    "    favorited.append(i.favorited)\n",
    "    tweets.append(i.text)\n",
    "    geo.append(i.geo)\n",
    "    id.append(i.id)\n",
    "    in_reply_to_screen_name.append(i.in_reply_to_screen_name)\n",
    "    in_reply_to_status_id.append(i.in_reply_to_status_id)\n",
    "    in_reply_to_user_id.append(i.in_reply_to_user_id)\n",
    "    lang.append(i.lang)\n",
    "    parse.append(i.parse)\n",
    "    place.append(i.place)\n",
    "    retweet.append(i.retweet)\n",
    "    retweet_count.append(i.retweet_count)\n",
    "    retweeted.append(i.retweeted)\n",
    "    retweets.append(i.retweets)\n",
    "    source.append(i.source)\n",
    "    source_url.append(i.source_url)\n",
    "    user.append(i.user.screen_name)"
   ],
   "metadata": {
    "collapsed": false,
    "pycharm": {
     "name": "#%%\n"
    }
   }
  },
  {
   "cell_type": "code",
   "execution_count": 44,
   "outputs": [],
   "source": [
    "df = pd.DataFrame({'author':author,'contributor': contributors,'coordinates': coordinates,'date':date,\n",
    "                   \"entities\": entities,'favorite':favorite,'likes':likes,'tweet':tweets,\n",
    "                   \"geo\":geo,'id':id,'in_reply_to_screen_name':in_reply_to_screen_name,'in_reply_to_status_id':in_reply_to_status_id,\n",
    "                   'in_reply_to_user_id':in_reply_to_user_id,'lang':lang,'parse':parse,'place':place,'retweet':retweet,'retweet_count':retweet_count,\n",
    "                   'retweeted':retweeted,'retweets':retweets,'source':source,'source_url':source_url,'user':user})"
   ],
   "metadata": {
    "collapsed": false,
    "pycharm": {
     "name": "#%%\n"
    }
   }
  },
  {
   "cell_type": "code",
   "execution_count": 45,
   "outputs": [
    {
     "data": {
      "text/plain": "'\\nprint(df[0])'"
     },
     "execution_count": 45,
     "metadata": {},
     "output_type": "execute_result"
    }
   ],
   "source": [
    "\"\"\"\n",
    "print(df[0])\"\"\""
   ],
   "metadata": {
    "collapsed": false,
    "pycharm": {
     "name": "#%%\n"
    }
   }
  },
  {
   "cell_type": "code",
   "execution_count": 46,
   "outputs": [
    {
     "name": "stdout",
     "output_type": "stream",
     "text": [
      "selesai\n"
     ]
    }
   ],
   "source": [
    "data = df.to_excel(\"jne.xlsx\")\n",
    "print(\"selesai\")"
   ],
   "metadata": {
    "collapsed": false,
    "pycharm": {
     "name": "#%%\n"
    }
   }
  }
 ],
 "metadata": {
  "kernelspec": {
   "display_name": "Python 3",
   "language": "python",
   "name": "python3"
  },
  "language_info": {
   "codemirror_mode": {
    "name": "ipython",
    "version": 2
   },
   "file_extension": ".py",
   "mimetype": "text/x-python",
   "name": "python",
   "nbconvert_exporter": "python",
   "pygments_lexer": "ipython2",
   "version": "2.7.6"
  }
 },
 "nbformat": 4,
 "nbformat_minor": 0
}